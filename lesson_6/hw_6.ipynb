{
 "cells": [
  {
   "cell_type": "code",
   "execution_count": 1,
   "metadata": {},
   "outputs": [],
   "source": [
    "import pandas as pd\n",
    "import numpy as np\n",
    "import matplotlib.pyplot as plt\n",
    "from sklearn.preprocessing import OneHotEncoder\n",
    "%matplotlib inline\n",
    "\n",
    "# Для работы с матрицами\n",
    "from scipy.sparse import csr_matrix\n",
    "\n",
    "# Матричная факторизация\n",
    "from implicit import als\n",
    "\n",
    "# Модель второго уровня\n",
    "from catboost import CatBoostClassifier\n",
    "\n",
    "import os, sys\n",
    "module_path = os.path.abspath(os.path.join(os.pardir))\n",
    "if module_path not in sys.path:\n",
    "    sys.path.append(module_path)\n",
    "\n",
    "# Написанные нами функции\n",
    "from src.metrics import precision_at_k, recall_at_k\n",
    "from src.utils import prefilter_items\n",
    "from src.recommenders import MainRecommender"
   ]
  },
  {
   "cell_type": "code",
   "execution_count": 2,
   "metadata": {},
   "outputs": [
    {
     "data": {
      "text/html": [
       "<div>\n",
       "<style scoped>\n",
       "    .dataframe tbody tr th:only-of-type {\n",
       "        vertical-align: middle;\n",
       "    }\n",
       "\n",
       "    .dataframe tbody tr th {\n",
       "        vertical-align: top;\n",
       "    }\n",
       "\n",
       "    .dataframe thead th {\n",
       "        text-align: right;\n",
       "    }\n",
       "</style>\n",
       "<table border=\"1\" class=\"dataframe\">\n",
       "  <thead>\n",
       "    <tr style=\"text-align: right;\">\n",
       "      <th></th>\n",
       "      <th>user_id</th>\n",
       "      <th>basket_id</th>\n",
       "      <th>day</th>\n",
       "      <th>item_id</th>\n",
       "      <th>quantity</th>\n",
       "      <th>sales_value</th>\n",
       "      <th>store_id</th>\n",
       "      <th>retail_disc</th>\n",
       "      <th>trans_time</th>\n",
       "      <th>week_no</th>\n",
       "      <th>coupon_disc</th>\n",
       "      <th>coupon_match_disc</th>\n",
       "    </tr>\n",
       "  </thead>\n",
       "  <tbody>\n",
       "    <tr>\n",
       "      <th>0</th>\n",
       "      <td>2375</td>\n",
       "      <td>26984851472</td>\n",
       "      <td>1</td>\n",
       "      <td>1004906</td>\n",
       "      <td>1</td>\n",
       "      <td>1.39</td>\n",
       "      <td>364</td>\n",
       "      <td>-0.6</td>\n",
       "      <td>1631</td>\n",
       "      <td>1</td>\n",
       "      <td>0.0</td>\n",
       "      <td>0.0</td>\n",
       "    </tr>\n",
       "    <tr>\n",
       "      <th>1</th>\n",
       "      <td>2375</td>\n",
       "      <td>26984851472</td>\n",
       "      <td>1</td>\n",
       "      <td>1033142</td>\n",
       "      <td>1</td>\n",
       "      <td>0.82</td>\n",
       "      <td>364</td>\n",
       "      <td>0.0</td>\n",
       "      <td>1631</td>\n",
       "      <td>1</td>\n",
       "      <td>0.0</td>\n",
       "      <td>0.0</td>\n",
       "    </tr>\n",
       "  </tbody>\n",
       "</table>\n",
       "</div>"
      ],
      "text/plain": [
       "   user_id    basket_id  day  item_id  quantity  sales_value  store_id  \\\n",
       "0     2375  26984851472    1  1004906         1         1.39       364   \n",
       "1     2375  26984851472    1  1033142         1         0.82       364   \n",
       "\n",
       "   retail_disc  trans_time  week_no  coupon_disc  coupon_match_disc  \n",
       "0         -0.6        1631        1          0.0                0.0  \n",
       "1          0.0        1631        1          0.0                0.0  "
      ]
     },
     "execution_count": 2,
     "metadata": {},
     "output_type": "execute_result"
    }
   ],
   "source": [
    "data = pd.read_csv('retail_train.csv')\n",
    "item_features = pd.read_csv('product.csv')\n",
    "user_features = pd.read_csv('hh_demographic.csv')\n",
    "\n",
    "# column processing\n",
    "item_features.columns = [col.lower() for col in item_features.columns]\n",
    "user_features.columns = [col.lower() for col in user_features.columns]\n",
    "\n",
    "item_features.rename(columns={'product_id': 'item_id'}, inplace=True)\n",
    "user_features.rename(columns={'household_key': 'user_id'}, inplace=True)\n",
    "\n",
    "\n",
    "# Важна схема обучения и валидации!\n",
    "# -- давние покупки -- | -- 6 недель -- | -- 3 недель -- \n",
    "# подобрать размер 2-ого датасета (6 недель) --> learning curve (зависимость метрики recall@k от размера датасета)\n",
    "val_lvl_1_size_weeks = 6\n",
    "val_lvl_2_size_weeks = 3\n",
    "\n",
    "data_train_lvl_1 = data[data['week_no'] < data['week_no'].max() - (val_lvl_1_size_weeks + val_lvl_2_size_weeks)]\n",
    "data_val_lvl_1 = data[(data['week_no'] >= data['week_no'].max() - (val_lvl_1_size_weeks + val_lvl_2_size_weeks)) &\n",
    "                      (data['week_no'] < data['week_no'].max() - (val_lvl_2_size_weeks))]\n",
    "\n",
    "data_train_lvl_2 = data_val_lvl_1.copy()  # Для наглядности. Далее мы добавим изменения, и они будут отличаться\n",
    "data_val_lvl_2 = data[data['week_no'] >= data['week_no'].max() - val_lvl_2_size_weeks]\n",
    "\n",
    "data_train_lvl_1.head(2)"
   ]
  },
  {
   "cell_type": "code",
   "execution_count": 3,
   "metadata": {},
   "outputs": [
    {
     "name": "stdout",
     "output_type": "stream",
     "text": [
      "Decreased # items from 83685 to 5001\n"
     ]
    }
   ],
   "source": [
    "n_items_before = data_train_lvl_1['item_id'].nunique()\n",
    "\n",
    "data_train_lvl_1 = prefilter_items(data_train_lvl_1, item_features=item_features, take_n_popular=5000)\n",
    "\n",
    "n_items_after = data_train_lvl_1['item_id'].nunique()\n",
    "print('Decreased # items from {} to {}'.format(n_items_before, n_items_after))"
   ]
  },
  {
   "cell_type": "code",
   "execution_count": 4,
   "metadata": {},
   "outputs": [],
   "source": [
    "recommender = MainRecommender(data_train_lvl_1)"
   ]
  },
  {
   "cell_type": "code",
   "execution_count": 5,
   "metadata": {},
   "outputs": [
    {
     "data": {
      "text/plain": [
       "[871756, 899624, 1106523, 1044078, 844179]"
      ]
     },
     "execution_count": 5,
     "metadata": {},
     "output_type": "execute_result"
    }
   ],
   "source": [
    "recommender.get_als_recommendations(2375, N=5)"
   ]
  },
  {
   "cell_type": "code",
   "execution_count": 6,
   "metadata": {},
   "outputs": [
    {
     "data": {
      "text/plain": [
       "[948640, 918046, 847962, 907099, 873980]"
      ]
     },
     "execution_count": 6,
     "metadata": {},
     "output_type": "execute_result"
    }
   ],
   "source": [
    "recommender.get_own_recommendations(2375, N=5)"
   ]
  },
  {
   "cell_type": "code",
   "execution_count": 7,
   "metadata": {},
   "outputs": [
    {
     "data": {
      "text/plain": [
       "[1046545, 1044078, 999270, 1084342, 10355376]"
      ]
     },
     "execution_count": 7,
     "metadata": {},
     "output_type": "execute_result"
    }
   ],
   "source": [
    "recommender.get_similar_items_recommendation(2375, N=5)"
   ]
  },
  {
   "cell_type": "code",
   "execution_count": 8,
   "metadata": {},
   "outputs": [
    {
     "data": {
      "text/plain": [
       "[1097398, 1088771, 1106523, 918638, 1029743]"
      ]
     },
     "execution_count": 8,
     "metadata": {},
     "output_type": "execute_result"
    }
   ],
   "source": [
    "recommender.get_similar_users_recommendation(2375, N=5)"
   ]
  },
  {
   "cell_type": "markdown",
   "metadata": {},
   "source": [
    "### Задание 1\n",
    "\n",
    "A) Попробуйте различные варианты генерации кандидатов. Какие из них дают наибольший recall@k ?\n",
    "- Пока пробуем отобрать 50 кандидатов (k=50)\n",
    "- Качество измеряем на data_val_lvl_1: следующие 6 недель после трейна\n",
    "\n",
    "Дают ли own recommendtions + top-popular лучший recall?  \n",
    "\n",
    "B)* Как зависит recall@k от k? Постройте для одной схемы генерации кандидатов эту зависимость для k = {20, 50, 100, 200, 500}  \n",
    "C)* Исходя из прошлого вопроса, как вы думаете, какое значение k является наиболее разумным?\n"
   ]
  },
  {
   "cell_type": "code",
   "execution_count": 9,
   "metadata": {},
   "outputs": [],
   "source": [
    "common_users = data_train_lvl_1.user_id.values\n",
    "data_val_lvl_1 = data_train_lvl_1[data_train_lvl_1.user_id.isin(common_users)]\n",
    "data_train_lvl_2 = data_train_lvl_2[data_train_lvl_2.user_id.isin(common_users)]\n",
    "data_val_lvl_2 = data_val_lvl_2[data_val_lvl_2.user_id.isin(common_users)]"
   ]
  },
  {
   "cell_type": "code",
   "execution_count": 10,
   "metadata": {},
   "outputs": [
    {
     "data": {
      "text/html": [
       "<div>\n",
       "<style scoped>\n",
       "    .dataframe tbody tr th:only-of-type {\n",
       "        vertical-align: middle;\n",
       "    }\n",
       "\n",
       "    .dataframe tbody tr th {\n",
       "        vertical-align: top;\n",
       "    }\n",
       "\n",
       "    .dataframe thead th {\n",
       "        text-align: right;\n",
       "    }\n",
       "</style>\n",
       "<table border=\"1\" class=\"dataframe\">\n",
       "  <thead>\n",
       "    <tr style=\"text-align: right;\">\n",
       "      <th></th>\n",
       "      <th>user_id</th>\n",
       "      <th>actual</th>\n",
       "    </tr>\n",
       "  </thead>\n",
       "  <tbody>\n",
       "    <tr>\n",
       "      <th>0</th>\n",
       "      <td>2375</td>\n",
       "      <td>[1085983, 827919, 861279, 999999, 930666, 9509...</td>\n",
       "    </tr>\n",
       "    <tr>\n",
       "      <th>1</th>\n",
       "      <td>1364</td>\n",
       "      <td>[999999, 937406, 947013, 1007929, 1110692, 826...</td>\n",
       "    </tr>\n",
       "  </tbody>\n",
       "</table>\n",
       "</div>"
      ],
      "text/plain": [
       "   user_id                                             actual\n",
       "0     2375  [1085983, 827919, 861279, 999999, 930666, 9509...\n",
       "1     1364  [999999, 937406, 947013, 1007929, 1110692, 826..."
      ]
     },
     "execution_count": 10,
     "metadata": {},
     "output_type": "execute_result"
    }
   ],
   "source": [
    "result_lvl_1 = data_val_lvl_1.groupby('user_id', sort=False)['item_id'].unique().reset_index()\n",
    "result_lvl_1.columns=['user_id', 'actual']\n",
    "result_lvl_1.head(2)"
   ]
  },
  {
   "cell_type": "code",
   "execution_count": 11,
   "metadata": {},
   "outputs": [
    {
     "data": {
      "text/plain": [
       "[('own', 0.4995356523469096),\n",
       " ('own+top_pop', 0.37833912262409103),\n",
       " ('own+top_popular', 0.32284386447478747),\n",
       " ('als', 0.14749835502062777),\n",
       " ('similar_item', 0.09893975011934819),\n",
       " ('similar_user', 0.0803205131522099)]"
      ]
     },
     "execution_count": 11,
     "metadata": {},
     "output_type": "execute_result"
    }
   ],
   "source": [
    "def calc_recall(df_result, top_k):\n",
    "    for col_name in df_result.columns[2:]:\n",
    "        yield col_name, df_result.apply(lambda row: recall_at_k(row[col_name], row['actual'], k=top_k), axis=1).mean()\n",
    "\n",
    "\n",
    "def calc_precision(df_result, top_k):\n",
    "    for col_name in df_result.columns[2:]:\n",
    "        yield col_name, df_result.apply(lambda row: precision_at_k(row[col_name], row['actual'], k=top_k), axis=1).mean()\n",
    "\n",
    "\n",
    "def make_recommendations(df_result, rec_name_model, N=50):\n",
    "    rec_name = rec_name_model[0]\n",
    "    rec_model = rec_name_model[1]\n",
    "    df_result[rec_name] = df_result['user_id'].apply(lambda x: rec_model(x, N=N))\n",
    "\n",
    "\n",
    "def fill_top(column, N=5):\n",
    "    top = np.array(recommender.overall_top_purchases)\n",
    "    recs = np.array(column)\n",
    "    flags = np.isin(top, recs, invert=True)\n",
    "    top = top[flags]\n",
    "    return np.append(recs, top[:N])\n",
    "\n",
    "\n",
    "rec_vars = [\n",
    "    ('own', recommender.get_own_recommendations),\n",
    "    ('als', recommender.get_als_recommendations),\n",
    "    ('similar_user', recommender.get_similar_users_recommendation),\n",
    "    ('similar_item', recommender.get_similar_items_recommendation)\n",
    "]\n",
    "\n",
    "for rec_var in rec_vars:\n",
    "    make_recommendations(result_lvl_1, rec_var)\n",
    "\n",
    "make_recommendations(result_lvl_1, ('own+top_popular', recommender.get_own_recommendations), N=25)\n",
    "result_lvl_1['own+top_pop'] = result_lvl_1['own+top_popular'].apply(lambda row: fill_top(row, N=25))\n",
    "\n",
    "sorted(calc_recall(result_lvl_1, 50), key=lambda x: x[1], reverse=True)"
   ]
  },
  {
   "cell_type": "markdown",
   "metadata": {},
   "source": [
    "own_recommendations показали наибольший recall@50, так как формировались по принципу похожести на ближайшего соседа."
   ]
  },
  {
   "cell_type": "code",
   "execution_count": 12,
   "metadata": {},
   "outputs": [
    {
     "data": {
      "image/png": "[encoded data removed]",
      "text/plain": [
       "<Figure size 648x432 with 1 Axes>"
      ]
     },
     "metadata": {
      "needs_background": "light"
     },
     "output_type": "display_data"
    }
   ],
   "source": [
    "k_list = [20, 50, 100, 200, 500]\n",
    "scores = []\n",
    "col = 'own'\n",
    "for k in k_list:\n",
    "    make_recommendations(result_lvl_1, rec_vars[0], N=k)\n",
    "    scores.append(result_lvl_1.apply(lambda row: recall_at_k(row[col], row['actual'], k=k), axis=1).mean())\n",
    "fig, ax = plt.subplots(1, figsize=(9,6))\n",
    "ax.plot(k_list, scores)\n",
    "ax.set_xlabel('k')\n",
    "ax.set_ylabel('Recall@k')\n",
    "ax.set_title(f'Зависимость Recall@k от k на примере колонки {col}')\n",
    "ax.grid()\n",
    "plt.show()"
   ]
  },
  {
   "cell_type": "markdown",
   "metadata": {},
   "source": [
    "С увеличением k скорость роста метрики падает. Причина в том, что с увеличением количество кандидатов их качество падает. Разумнее всего выбрать k в диапазоне от 100 до 200, поскольку в таком случае получается достаточно высокий recall без лишних затрат."
   ]
  },
  {
   "cell_type": "markdown",
   "metadata": {},
   "source": [
    "### Задание 2.\n",
    "\n",
    "Обучите модель 2-ого уровня, при этом:\n",
    "    - Добавьте минимум по 2 фичи для юзера, товара и пары юзер-товар\n",
    "    - Измерьте отдельно precision@5 модели 1-ого уровня и двухуровневой модели на data_val_lvl_2\n",
    "    - Вырос ли precision@5 при использовании двухуровневой модели?"
   ]
  },
  {
   "cell_type": "code",
   "execution_count": 13,
   "metadata": {},
   "outputs": [
    {
     "data": {
      "text/plain": [
       "[('own', 0.8763927855711424),\n",
       " ('own+top_popular', 0.8763927855711424),\n",
       " ('own+top_pop', 0.8763927855711424),\n",
       " ('als', 0.4466533066132265),\n",
       " ('similar_item', 0.2933066132264529),\n",
       " ('similar_user', 0.21739478957915837)]"
      ]
     },
     "execution_count": 13,
     "metadata": {},
     "output_type": "execute_result"
    }
   ],
   "source": [
    "sorted(calc_precision(result_lvl_1, 5), key=lambda x: x[1], reverse=True)"
   ]
  },
  {
   "cell_type": "code",
   "execution_count": 14,
   "metadata": {},
   "outputs": [],
   "source": [
    "df_match_candidates = pd.DataFrame(data_train_lvl_2['user_id'].unique())\n",
    "df_match_candidates.columns = ['user_id']\n",
    "df_match_candidates['candidates'] = df_match_candidates['user_id'].apply(lambda x: recommender.get_als_recommendations(x, N=50))\n",
    "df_items = df_match_candidates.apply(lambda x: pd.Series(x['candidates']), axis=1).stack().reset_index(level=1, drop=True)"
   ]
  },
  {
   "cell_type": "code",
   "execution_count": 15,
   "metadata": {},
   "outputs": [],
   "source": [
    "df_items.name = 'item_id'\n",
    "df_match_candidates = df_match_candidates.drop('candidates', axis=1).join(df_items)\n",
    "df_train_lvl_2 = data_train_lvl_2[['user_id', 'item_id']].copy()\n",
    "df_train_lvl_2['target'] = 1\n",
    "df_train_lvl_2 = df_match_candidates.merge(df_train_lvl_2, on=['user_id', 'item_id'], how='left')\n",
    "df_train_lvl_2 = df_train_lvl_2.drop_duplicates(subset=['user_id', 'item_id'])\n",
    "df_train_lvl_2['target'].fillna(0, inplace= True)\n",
    "df_train_lvl_2 = df_train_lvl_2.merge(item_features, on='item_id', how='left')\n",
    "df_train_lvl_2 = df_train_lvl_2.merge(user_features, on='user_id', how='left')\n",
    "df_train_lvl_2= df_train_lvl_2.merge(data_val_lvl_1.groupby('user_id', sort=False)['sales_value'].mean().reset_index(), how='left', on='user_id')\n",
    "df_train_lvl_2.rename(columns={'sales_value': 'avg_bill'}, inplace=True)\n",
    "data_val_lvl_1 = data_val_lvl_1.merge(item_features[['item_id', 'department']], how='left', on='item_id')\n",
    "df_train_lvl_2 = df_train_lvl_2.merge(data_val_lvl_1.groupby(['user_id', 'department'], sort=False)['sales_value'].mean().reset_index(), how='left', on=['user_id', 'department']).rename(columns={'sales_value': 'avg_cat_spendings'})\n",
    "df_train_lvl_2 = df_train_lvl_2.merge((data_val_lvl_1.groupby('item_id', sort=False)['quantity'].count() / data_val_lvl_1['week_no'].nunique()).reset_index(), how='left', on='item_id')\n",
    "df_train_lvl_2.rename(columns={'quantity': 'avg_week_purchases'}, inplace=True)\n",
    "df_train_lvl_2 = df_train_lvl_2.merge((data_val_lvl_1.groupby('department', sort=False)['quantity'].count() / data_val_lvl_1['week_no'].nunique()).reset_index(), how='left', on='department').rename(columns={'quantity': 'avg_week_purchases_cat'})\n",
    "df_train_lvl_2 = df_train_lvl_2.merge(data_val_lvl_1.groupby('department', sort=False)['sales_value'].mean().reset_index(), how='left', on='department').rename(columns={'sales_value': 'avg_cat_spendings_items'})\n",
    "df_train_lvl_2 = df_train_lvl_2.merge((data_val_lvl_1.groupby(['user_id', 'department'], sort=False)['quantity'].count() / data_val_lvl_1['week_no'].nunique()).reset_index(), how='left', on=['user_id', 'department']).rename(columns={'quantity': 'user_week_cat_purchase'})"
   ]
  },
  {
   "cell_type": "code",
   "execution_count": 16,
   "metadata": {},
   "outputs": [],
   "source": [
    "X_train = df_train_lvl_2.iloc[:, 2:].drop('target', axis=1)\n",
    "y_train = df_train_lvl_2['target']\n",
    "cat_feats = X_train.columns.tolist()[:-6]\n",
    "X_train[cat_feats] = X_train[cat_feats].astype('category')"
   ]
  },
  {
   "cell_type": "code",
   "execution_count": 17,
   "metadata": {},
   "outputs": [],
   "source": [
    "nan_cols = X_train.isna().sum().loc[X_train.isna().sum() > 0].index.tolist()\n",
    "for col in nan_cols:\n",
    "    X_train[f'{col}_nan'] = 0\n",
    "    X_train.loc[X_train[col].isna(), f'{col}_nan'] = 1\n",
    "    X_train[col].fillna(X_train[col].value_counts().index[0], inplace=True)"
   ]
  },
  {
   "cell_type": "code",
   "execution_count": 18,
   "metadata": {},
   "outputs": [],
   "source": [
    "encoder = OneHotEncoder(handle_unknown='ignore', sparse=False)\n",
    "X_train = X_train.drop(cat_feats, axis=1).join(pd.DataFrame(encoder.fit_transform(X_train[cat_feats]), columns=encoder.get_feature_names_out(cat_feats)))"
   ]
  },
  {
   "cell_type": "code",
   "execution_count": 19,
   "metadata": {},
   "outputs": [],
   "source": [
    "model = CatBoostClassifier(iterations=200, silent=True,\n",
    "                           eta=0.1, task_type='CPU',\n",
    "                           auto_class_weights='Balanced',\n",
    "                           random_state=29\n",
    "            )\n",
    "model.fit(X_train, y_train)\n",
    "train_preds = model.predict_proba(X_train)"
   ]
  },
  {
   "cell_type": "code",
   "execution_count": 20,
   "metadata": {},
   "outputs": [],
   "source": [
    "df_predict_lvl2 = df_train_lvl_2.copy()\n",
    "df_predict_lvl2['proba_item_purchase'] = train_preds[:, 1]"
   ]
  },
  {
   "cell_type": "code",
   "execution_count": 21,
   "metadata": {},
   "outputs": [
    {
     "data": {
      "text/plain": [
       "125"
      ]
     },
     "execution_count": 21,
     "metadata": {},
     "output_type": "execute_result"
    }
   ],
   "source": [
    "data_val_lvl_2.loc[~data_val_lvl_2['user_id'].isin(data_train_lvl_2['user_id'])]['user_id'].nunique()"
   ]
  },
  {
   "cell_type": "code",
   "execution_count": 22,
   "metadata": {},
   "outputs": [],
   "source": [
    "class ProcessData:\n",
    "    \n",
    "    def __init__(self):\n",
    "        self.cat_feats = None\n",
    "        self.data_train_lvl_2 = None\n",
    "        self.encoder = OneHotEncoder(handle_unknown='ignore', sparse=False)\n",
    "        self.item_features = None\n",
    "        self.nan_cols = None\n",
    "        self.train_data = None\n",
    "        self.user_features = None\n",
    "        \n",
    "\n",
    "    def _add_features(self, df, is_fit=True):\n",
    "        df = df[['user_id', 'item_id']].copy()\n",
    "        df = df.merge(self.item_features, on='item_id', how='left')\n",
    "        df = df.merge(self.user_features, on='user_id', how='left')\n",
    "        # Средний чек\n",
    "        df = df.merge(self.train_data.groupby('user_id', sort=False)['sales_value']. \\\n",
    "                                    mean().reset_index(), how='left', on='user_id')\n",
    "        df.rename(columns={'sales_value': 'avg_bill'}, inplace=True)  \n",
    "        # Средняя сумма покупки 1 товара в каждой категории\n",
    "        df = df.merge(self.train_data.groupby(['user_id', 'department'], sort=False)['sales_value'] \\\n",
    "                                                .mean().reset_index(), how='left', on=['user_id', 'department']). \\\n",
    "                                                rename(columns={'sales_value': 'avg_cat_spendings'})\n",
    "        # Кол-во покупок в неделю\n",
    "        df = df.merge((self.train_data.groupby('item_id', sort=False)['quantity'] \\\n",
    "                                                 .count() / self.train_data['week_no'].nunique()).reset_index(), how='left', on='item_id')\n",
    "        df.rename(columns={'quantity': 'avg_week_purchases'}, inplace=True)\n",
    "        # Среднее кол-во покупок 1 товара в категории в неделю\n",
    "        df = df.merge((self.train_data.groupby('department', sort=False)['quantity'] \\\n",
    "                                                 .count() / self.train_data['week_no'].nunique()).reset_index(), \\\n",
    "                                                how='left', on='department').rename(columns={'quantity': 'avg_week_purchases_cat'})\n",
    "        # Средняя сумма покупки 1 товара в каждой категории (берем категорию item_id)\n",
    "        df = df.merge(self.train_data.groupby('department', sort=False)['sales_value'] \\\n",
    "                                                 .mean().reset_index(), how='left', on='department') \\\n",
    "                                                 .rename(columns={'sales_value': 'avg_cat_spendings_items'})\n",
    "        # Кол-во покупок юзером конкретной категории в неделю\n",
    "        df = df.merge((self.train_data.groupby(['user_id', 'department'], sort=False)['quantity'] \\\n",
    "                                                 .count() / self.train_data['week_no'].nunique()).reset_index(), how='left', \\\n",
    "                                                on=['user_id', 'department']).rename(columns={'quantity': 'user_week_cat_purchase'})\n",
    "        df = df.iloc[:, 2:]\n",
    "        self.cat_feats = df.columns.tolist()[:-6]\n",
    "        df[self.cat_feats] = df[self.cat_feats].astype('category')\n",
    "        if not is_fit:\n",
    "            self.nan_cols = df.isna().sum().loc[df.isna().sum() > 0].index.tolist()\n",
    "        for col in self.nan_cols:\n",
    "            df[f'{col}_nan'] = 0\n",
    "            df.loc[df[col].isna(), f'{col}_nan'] = 1\n",
    "            \n",
    "            if is_fit:\n",
    "                data_source = self.data_train_lvl_2.copy()\n",
    "            else:\n",
    "                data_source = df.copy()     \n",
    "            df[col].fillna(data_source[col].value_counts().index[0], inplace=True)\n",
    "        additional_nans = df.isna().sum().loc[df.isna().sum() > 0].index.tolist()\n",
    "        for col in additional_nans:\n",
    "            df[col].fillna(data_source[col].value_counts().index[0], inplace=True)\n",
    "        if not is_fit:\n",
    "            self.encoder.fit(df[self.cat_feats])\n",
    "        return df\n",
    "        \n",
    "        \n",
    "    def fit(self, data_train_lvl_2, train_data, user_features, item_features):\n",
    "        self.data_train_lvl_2 = data_train_lvl_2\n",
    "        self.train_data = train_data\n",
    "        self.user_features = user_features\n",
    "        self.item_features = item_features\n",
    "        self.data_train_lvl_2 = self._add_features(self.data_train_lvl_2, is_fit=False)\n",
    "        \n",
    "    \n",
    "    def transform(self, X):\n",
    "        X = self._add_features(X)\n",
    "        X = X.drop(self.cat_feats, axis=1).join(pd.DataFrame(self.encoder.transform(X[self.cat_feats]), \\\n",
    "                                                    columns=self.encoder.get_feature_names_out(self.cat_feats)))\n",
    "        return X"
   ]
  },
  {
   "cell_type": "code",
   "execution_count": 23,
   "metadata": {},
   "outputs": [],
   "source": [
    "data_processor = ProcessData()\n",
    "data_processor.fit(df_train_lvl_2, data_val_lvl_1, user_features, item_features)\n",
    "X_train = data_processor.transform(df_train_lvl_2)"
   ]
  },
  {
   "cell_type": "code",
   "execution_count": 24,
   "metadata": {},
   "outputs": [
    {
     "data": {
      "text/html": [
       "<div>\n",
       "<style scoped>\n",
       "    .dataframe tbody tr th:only-of-type {\n",
       "        vertical-align: middle;\n",
       "    }\n",
       "\n",
       "    .dataframe tbody tr th {\n",
       "        vertical-align: top;\n",
       "    }\n",
       "\n",
       "    .dataframe thead th {\n",
       "        text-align: right;\n",
       "    }\n",
       "</style>\n",
       "<table border=\"1\" class=\"dataframe\">\n",
       "  <thead>\n",
       "    <tr style=\"text-align: right;\">\n",
       "      <th></th>\n",
       "      <th>user_id</th>\n",
       "      <th>actual</th>\n",
       "    </tr>\n",
       "  </thead>\n",
       "  <tbody>\n",
       "    <tr>\n",
       "      <th>0</th>\n",
       "      <td>338</td>\n",
       "      <td>[840173, 1037348, 5592737, 7441679, 7442317, 1...</td>\n",
       "    </tr>\n",
       "    <tr>\n",
       "      <th>1</th>\n",
       "      <td>2120</td>\n",
       "      <td>[441768, 480433, 492628, 503227, 525168, 52575...</td>\n",
       "    </tr>\n",
       "  </tbody>\n",
       "</table>\n",
       "</div>"
      ],
      "text/plain": [
       "   user_id                                             actual\n",
       "0      338  [840173, 1037348, 5592737, 7441679, 7442317, 1...\n",
       "1     2120  [441768, 480433, 492628, 503227, 525168, 52575..."
      ]
     },
     "execution_count": 24,
     "metadata": {},
     "output_type": "execute_result"
    }
   ],
   "source": [
    "result_eval_lvl2 = data_val_lvl_2.groupby('user_id', sort=False)['item_id'].unique().reset_index()\n",
    "result_eval_lvl2.columns=['user_id', 'actual']\n",
    "result_eval_lvl2.head(2)"
   ]
  },
  {
   "cell_type": "code",
   "execution_count": 25,
   "metadata": {},
   "outputs": [
    {
     "name": "stdout",
     "output_type": "stream",
     "text": [
      "CPU times: user 13.8 s, sys: 0 ns, total: 13.8 s\n",
      "Wall time: 13.8 s\n"
     ]
    }
   ],
   "source": [
    "%%time\n",
    "result_eval_lvl2['als'] = result_eval_lvl2['user_id'].apply(lambda x: recommender.get_als_recommendations(x, N=50))"
   ]
  },
  {
   "cell_type": "code",
   "execution_count": 26,
   "metadata": {},
   "outputs": [
    {
     "data": {
      "text/plain": [
       "[('als', 0.09441176470588236)]"
      ]
     },
     "execution_count": 26,
     "metadata": {},
     "output_type": "execute_result"
    }
   ],
   "source": [
    "sorted(calc_precision(result_eval_lvl2, 5), key=lambda x: x[1], reverse=True)"
   ]
  },
  {
   "cell_type": "code",
   "execution_count": 27,
   "metadata": {},
   "outputs": [
    {
     "data": {
      "text/html": [
       "<div>\n",
       "<style scoped>\n",
       "    .dataframe tbody tr th:only-of-type {\n",
       "        vertical-align: middle;\n",
       "    }\n",
       "\n",
       "    .dataframe tbody tr th {\n",
       "        vertical-align: top;\n",
       "    }\n",
       "\n",
       "    .dataframe thead th {\n",
       "        text-align: right;\n",
       "    }\n",
       "</style>\n",
       "<table border=\"1\" class=\"dataframe\">\n",
       "  <thead>\n",
       "    <tr style=\"text-align: right;\">\n",
       "      <th></th>\n",
       "      <th>user_id</th>\n",
       "      <th>item_id</th>\n",
       "    </tr>\n",
       "  </thead>\n",
       "  <tbody>\n",
       "    <tr>\n",
       "      <th>0</th>\n",
       "      <td>338</td>\n",
       "      <td>1068292</td>\n",
       "    </tr>\n",
       "    <tr>\n",
       "      <th>0</th>\n",
       "      <td>338</td>\n",
       "      <td>835300</td>\n",
       "    </tr>\n",
       "    <tr>\n",
       "      <th>0</th>\n",
       "      <td>338</td>\n",
       "      <td>1084036</td>\n",
       "    </tr>\n",
       "    <tr>\n",
       "      <th>0</th>\n",
       "      <td>338</td>\n",
       "      <td>1026118</td>\n",
       "    </tr>\n",
       "    <tr>\n",
       "      <th>0</th>\n",
       "      <td>338</td>\n",
       "      <td>13002975</td>\n",
       "    </tr>\n",
       "  </tbody>\n",
       "</table>\n",
       "</div>"
      ],
      "text/plain": [
       "   user_id   item_id\n",
       "0      338   1068292\n",
       "0      338    835300\n",
       "0      338   1084036\n",
       "0      338   1026118\n",
       "0      338  13002975"
      ]
     },
     "execution_count": 27,
     "metadata": {},
     "output_type": "execute_result"
    }
   ],
   "source": [
    "df_match_candidates = result_eval_lvl2.copy().rename(columns={'als': 'candidates'}).drop('actual', axis=1)\n",
    "df_items = df_match_candidates.apply(lambda x: pd.Series(x['candidates']), axis=1).stack().reset_index(level=1, drop=True)\n",
    "df_items.name = 'item_id'\n",
    "df_match_candidates = df_match_candidates.drop('candidates', axis=1).join(df_items)\n",
    "df_match_candidates.head()"
   ]
  },
  {
   "cell_type": "code",
   "execution_count": 28,
   "metadata": {},
   "outputs": [],
   "source": [
    "X_valid = data_processor.transform(df_match_candidates)"
   ]
  },
  {
   "cell_type": "code",
   "execution_count": 29,
   "metadata": {},
   "outputs": [],
   "source": [
    "val_preds = model.predict_proba(X_valid)\n",
    "df_match_candidates['proba_item_purchase'] = val_preds[:, 1]"
   ]
  },
  {
   "cell_type": "code",
   "execution_count": 30,
   "metadata": {},
   "outputs": [],
   "source": [
    "def rerank(user_id):\n",
    "    return df_match_candidates[df_match_candidates['user_id']==user_id].sort_values('proba_item_purchase', ascending=False). \\\n",
    "                                                                                                    head(5).item_id.tolist()"
   ]
  },
  {
   "cell_type": "code",
   "execution_count": 31,
   "metadata": {},
   "outputs": [],
   "source": [
    "result_eval_lvl2['reranked_als'] = result_eval_lvl2['user_id'].apply(lambda user_id: rerank(user_id))"
   ]
  },
  {
   "cell_type": "code",
   "execution_count": 32,
   "metadata": {},
   "outputs": [
    {
     "name": "stdout",
     "output_type": "stream",
     "text": [
      "('reranked_als', 0.13186274509803922)\n",
      "('als', 0.09441176470588236)\n"
     ]
    }
   ],
   "source": [
    "print(*sorted(calc_precision(result_eval_lvl2, 5), key=lambda x: x[1], reverse=True), sep='\\n')"
   ]
  },
  {
   "cell_type": "markdown",
   "metadata": {},
   "source": [
    "Двухуровневая модель дает большую точность рекомендаций."
   ]
  },
  {
   "cell_type": "markdown",
   "metadata": {},
   "source": [
    "### Финальный проект\n",
    "\n",
    "Мы уже прошли всю необходимуб теорию для финального проекта. Проект осуществляется на данных из вебинара (данные считаны в начале ДЗ).\n",
    "Рекомендуем вам **начать делать проект сразу после этого домашнего задания**\n",
    "- Целевая метрика - precision@5. Порог для уcпешной сдачи проекта precision@5 > 25%\n",
    "- Будет public тестовый датасет, на котором вы сможете измерять метрику\n",
    "- Также будет private тестовый датасет для измерения финального качества\n",
    "- НЕ обязательно, но крайне желательно использовать 2-ух уровневые рекоммендательные системы в проекте\n",
    "- Вы сдаете код проекта в виде github репозитория и csv файл с рекомендациями "
   ]
  }
 ],
 "metadata": {
  "kernelspec": {
   "display_name": "Python 3",
   "language": "python",
   "name": "python3"
  },
  "language_info": {
   "codemirror_mode": {
    "name": "ipython",
    "version": 3
   },
   "file_extension": ".py",
   "mimetype": "text/x-python",
   "name": "python",
   "nbconvert_exporter": "python",
   "pygments_lexer": "ipython3",
   "version": "3.10.12"
  },
  "orig_nbformat": 4
 },
 "nbformat": 4,
 "nbformat_minor": 2
}
